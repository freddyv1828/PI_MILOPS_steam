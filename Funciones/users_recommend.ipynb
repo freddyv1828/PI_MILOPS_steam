{
 "cells": [
  {
   "cell_type": "code",
   "execution_count": 1,
   "metadata": {},
   "outputs": [],
   "source": [
    "import pandas as pd"
   ]
  },
  {
   "cell_type": "markdown",
   "metadata": {},
   "source": [
    "Cargamos la data necesaria"
   ]
  },
  {
   "cell_type": "code",
   "execution_count": 2,
   "metadata": {},
   "outputs": [],
   "source": [
    "df_items = pd.read_parquet(\"../Datasets/australian_items_limpio.parquet\")\n",
    "df_reviews = pd.read_parquet(\"../Datasets/reviews_analisis_sentiment.parquet\")\n",
    "df_games = pd.read_parquet(\"../Datasets/steam_games_limpio.parquet\")"
   ]
  },
  {
   "cell_type": "markdown",
   "metadata": {},
   "source": [
    "sleccionamos columnas necesaria del dataframe reviews"
   ]
  },
  {
   "cell_type": "code",
   "execution_count": 3,
   "metadata": {},
   "outputs": [],
   "source": [
    "df_reviews = df_reviews[[\"reviews_item_id\", \"reviews_recommend\", \"year\", \"sentiment_analysis\"]]"
   ]
  },
  {
   "cell_type": "code",
   "execution_count": 4,
   "metadata": {},
   "outputs": [
    {
     "data": {
      "text/html": [
       "<div>\n",
       "<style scoped>\n",
       "    .dataframe tbody tr th:only-of-type {\n",
       "        vertical-align: middle;\n",
       "    }\n",
       "\n",
       "    .dataframe tbody tr th {\n",
       "        vertical-align: top;\n",
       "    }\n",
       "\n",
       "    .dataframe thead th {\n",
       "        text-align: right;\n",
       "    }\n",
       "</style>\n",
       "<table border=\"1\" class=\"dataframe\">\n",
       "  <thead>\n",
       "    <tr style=\"text-align: right;\">\n",
       "      <th></th>\n",
       "      <th>reviews_item_id</th>\n",
       "      <th>reviews_recommend</th>\n",
       "      <th>year</th>\n",
       "      <th>sentiment_analysis</th>\n",
       "    </tr>\n",
       "  </thead>\n",
       "  <tbody>\n",
       "    <tr>\n",
       "      <th>0</th>\n",
       "      <td>1250</td>\n",
       "      <td>True</td>\n",
       "      <td>2011</td>\n",
       "      <td>2</td>\n",
       "    </tr>\n",
       "    <tr>\n",
       "      <th>1</th>\n",
       "      <td>251610</td>\n",
       "      <td>True</td>\n",
       "      <td>2014</td>\n",
       "      <td>2</td>\n",
       "    </tr>\n",
       "    <tr>\n",
       "      <th>3</th>\n",
       "      <td>250320</td>\n",
       "      <td>True</td>\n",
       "      <td>2013</td>\n",
       "      <td>2</td>\n",
       "    </tr>\n",
       "    <tr>\n",
       "      <th>4</th>\n",
       "      <td>211420</td>\n",
       "      <td>True</td>\n",
       "      <td>2014</td>\n",
       "      <td>1</td>\n",
       "    </tr>\n",
       "    <tr>\n",
       "      <th>5</th>\n",
       "      <td>249130</td>\n",
       "      <td>True</td>\n",
       "      <td>2014</td>\n",
       "      <td>1</td>\n",
       "    </tr>\n",
       "    <tr>\n",
       "      <th>...</th>\n",
       "      <td>...</td>\n",
       "      <td>...</td>\n",
       "      <td>...</td>\n",
       "      <td>...</td>\n",
       "    </tr>\n",
       "    <tr>\n",
       "      <th>231273</th>\n",
       "      <td>332310</td>\n",
       "      <td>True</td>\n",
       "      <td>2015</td>\n",
       "      <td>1</td>\n",
       "    </tr>\n",
       "    <tr>\n",
       "      <th>231291</th>\n",
       "      <td>440</td>\n",
       "      <td>True</td>\n",
       "      <td>2014</td>\n",
       "      <td>0</td>\n",
       "    </tr>\n",
       "    <tr>\n",
       "      <th>231293</th>\n",
       "      <td>304930</td>\n",
       "      <td>True</td>\n",
       "      <td>2014</td>\n",
       "      <td>2</td>\n",
       "    </tr>\n",
       "    <tr>\n",
       "      <th>231419</th>\n",
       "      <td>265630</td>\n",
       "      <td>True</td>\n",
       "      <td>2015</td>\n",
       "      <td>2</td>\n",
       "    </tr>\n",
       "    <tr>\n",
       "      <th>231499</th>\n",
       "      <td>304050</td>\n",
       "      <td>True</td>\n",
       "      <td>2015</td>\n",
       "      <td>2</td>\n",
       "    </tr>\n",
       "  </tbody>\n",
       "</table>\n",
       "<p>47599 rows × 4 columns</p>\n",
       "</div>"
      ],
      "text/plain": [
       "       reviews_item_id  reviews_recommend  year  sentiment_analysis\n",
       "0                 1250               True  2011                   2\n",
       "1               251610               True  2014                   2\n",
       "3               250320               True  2013                   2\n",
       "4               211420               True  2014                   1\n",
       "5               249130               True  2014                   1\n",
       "...                ...                ...   ...                 ...\n",
       "231273          332310               True  2015                   1\n",
       "231291             440               True  2014                   0\n",
       "231293          304930               True  2014                   2\n",
       "231419          265630               True  2015                   2\n",
       "231499          304050               True  2015                   2\n",
       "\n",
       "[47599 rows x 4 columns]"
      ]
     },
     "execution_count": 4,
     "metadata": {},
     "output_type": "execute_result"
    }
   ],
   "source": [
    "df_reviews"
   ]
  },
  {
   "cell_type": "markdown",
   "metadata": {},
   "source": [
    "Seleccionamos las columnas del dataset games"
   ]
  },
  {
   "cell_type": "code",
   "execution_count": 5,
   "metadata": {},
   "outputs": [],
   "source": [
    "df_games = df_games[[\"title\", \"id\"]]"
   ]
  },
  {
   "cell_type": "code",
   "execution_count": 6,
   "metadata": {},
   "outputs": [
    {
     "data": {
      "text/html": [
       "<div>\n",
       "<style scoped>\n",
       "    .dataframe tbody tr th:only-of-type {\n",
       "        vertical-align: middle;\n",
       "    }\n",
       "\n",
       "    .dataframe tbody tr th {\n",
       "        vertical-align: top;\n",
       "    }\n",
       "\n",
       "    .dataframe thead th {\n",
       "        text-align: right;\n",
       "    }\n",
       "</style>\n",
       "<table border=\"1\" class=\"dataframe\">\n",
       "  <thead>\n",
       "    <tr style=\"text-align: right;\">\n",
       "      <th></th>\n",
       "      <th>title</th>\n",
       "      <th>id</th>\n",
       "    </tr>\n",
       "  </thead>\n",
       "  <tbody>\n",
       "    <tr>\n",
       "      <th>0</th>\n",
       "      <td>Lost Summoner Kitty</td>\n",
       "      <td>761140</td>\n",
       "    </tr>\n",
       "    <tr>\n",
       "      <th>0</th>\n",
       "      <td>Lost Summoner Kitty</td>\n",
       "      <td>761140</td>\n",
       "    </tr>\n",
       "    <tr>\n",
       "      <th>0</th>\n",
       "      <td>Lost Summoner Kitty</td>\n",
       "      <td>761140</td>\n",
       "    </tr>\n",
       "    <tr>\n",
       "      <th>0</th>\n",
       "      <td>Lost Summoner Kitty</td>\n",
       "      <td>761140</td>\n",
       "    </tr>\n",
       "    <tr>\n",
       "      <th>0</th>\n",
       "      <td>Lost Summoner Kitty</td>\n",
       "      <td>761140</td>\n",
       "    </tr>\n",
       "    <tr>\n",
       "      <th>...</th>\n",
       "      <td>...</td>\n",
       "      <td>...</td>\n",
       "    </tr>\n",
       "    <tr>\n",
       "      <th>32132</th>\n",
       "      <td>Russian Roads</td>\n",
       "      <td>610660</td>\n",
       "    </tr>\n",
       "    <tr>\n",
       "      <th>32132</th>\n",
       "      <td>Russian Roads</td>\n",
       "      <td>610660</td>\n",
       "    </tr>\n",
       "    <tr>\n",
       "      <th>32132</th>\n",
       "      <td>Russian Roads</td>\n",
       "      <td>610660</td>\n",
       "    </tr>\n",
       "    <tr>\n",
       "      <th>32133</th>\n",
       "      <td>EXIT 2 - Directions</td>\n",
       "      <td>658870</td>\n",
       "    </tr>\n",
       "    <tr>\n",
       "      <th>32133</th>\n",
       "      <td>EXIT 2 - Directions</td>\n",
       "      <td>658870</td>\n",
       "    </tr>\n",
       "  </tbody>\n",
       "</table>\n",
       "<p>71551 rows × 2 columns</p>\n",
       "</div>"
      ],
      "text/plain": [
       "                     title      id\n",
       "0      Lost Summoner Kitty  761140\n",
       "0      Lost Summoner Kitty  761140\n",
       "0      Lost Summoner Kitty  761140\n",
       "0      Lost Summoner Kitty  761140\n",
       "0      Lost Summoner Kitty  761140\n",
       "...                    ...     ...\n",
       "32132        Russian Roads  610660\n",
       "32132        Russian Roads  610660\n",
       "32132        Russian Roads  610660\n",
       "32133  EXIT 2 - Directions  658870\n",
       "32133  EXIT 2 - Directions  658870\n",
       "\n",
       "[71551 rows x 2 columns]"
      ]
     },
     "execution_count": 6,
     "metadata": {},
     "output_type": "execute_result"
    }
   ],
   "source": [
    "df_games"
   ]
  },
  {
   "cell_type": "markdown",
   "metadata": {},
   "source": [
    "Combinamos los dos dataframes"
   ]
  },
  {
   "cell_type": "code",
   "execution_count": 7,
   "metadata": {},
   "outputs": [],
   "source": [
    "df_user_recomend = pd.merge(df_games, df_reviews, left_on=\"id\", right_on=\"reviews_item_id\", how=\"inner\")"
   ]
  },
  {
   "cell_type": "code",
   "execution_count": 8,
   "metadata": {},
   "outputs": [
    {
     "data": {
      "text/html": [
       "<div>\n",
       "<style scoped>\n",
       "    .dataframe tbody tr th:only-of-type {\n",
       "        vertical-align: middle;\n",
       "    }\n",
       "\n",
       "    .dataframe tbody tr th {\n",
       "        vertical-align: top;\n",
       "    }\n",
       "\n",
       "    .dataframe thead th {\n",
       "        text-align: right;\n",
       "    }\n",
       "</style>\n",
       "<table border=\"1\" class=\"dataframe\">\n",
       "  <thead>\n",
       "    <tr style=\"text-align: right;\">\n",
       "      <th></th>\n",
       "      <th>title</th>\n",
       "      <th>id</th>\n",
       "      <th>reviews_item_id</th>\n",
       "      <th>reviews_recommend</th>\n",
       "      <th>year</th>\n",
       "      <th>sentiment_analysis</th>\n",
       "    </tr>\n",
       "  </thead>\n",
       "  <tbody>\n",
       "    <tr>\n",
       "      <th>0</th>\n",
       "      <td>Half-Life</td>\n",
       "      <td>70</td>\n",
       "      <td>70</td>\n",
       "      <td>True</td>\n",
       "      <td>2015</td>\n",
       "      <td>1</td>\n",
       "    </tr>\n",
       "    <tr>\n",
       "      <th>1</th>\n",
       "      <td>Half-Life</td>\n",
       "      <td>70</td>\n",
       "      <td>70</td>\n",
       "      <td>True</td>\n",
       "      <td>2014</td>\n",
       "      <td>1</td>\n",
       "    </tr>\n",
       "    <tr>\n",
       "      <th>2</th>\n",
       "      <td>Half-Life</td>\n",
       "      <td>70</td>\n",
       "      <td>70</td>\n",
       "      <td>True</td>\n",
       "      <td>2015</td>\n",
       "      <td>1</td>\n",
       "    </tr>\n",
       "    <tr>\n",
       "      <th>3</th>\n",
       "      <td>Half-Life</td>\n",
       "      <td>70</td>\n",
       "      <td>70</td>\n",
       "      <td>True</td>\n",
       "      <td>2014</td>\n",
       "      <td>2</td>\n",
       "    </tr>\n",
       "    <tr>\n",
       "      <th>4</th>\n",
       "      <td>Half-Life</td>\n",
       "      <td>70</td>\n",
       "      <td>70</td>\n",
       "      <td>True</td>\n",
       "      <td>2011</td>\n",
       "      <td>2</td>\n",
       "    </tr>\n",
       "    <tr>\n",
       "      <th>...</th>\n",
       "      <td>...</td>\n",
       "      <td>...</td>\n",
       "      <td>...</td>\n",
       "      <td>...</td>\n",
       "      <td>...</td>\n",
       "      <td>...</td>\n",
       "    </tr>\n",
       "    <tr>\n",
       "      <th>100224</th>\n",
       "      <td>Counter-Strike: Condition Zero</td>\n",
       "      <td>80</td>\n",
       "      <td>80</td>\n",
       "      <td>False</td>\n",
       "      <td>2014</td>\n",
       "      <td>1</td>\n",
       "    </tr>\n",
       "    <tr>\n",
       "      <th>100225</th>\n",
       "      <td>Counter-Strike: Condition Zero</td>\n",
       "      <td>80</td>\n",
       "      <td>80</td>\n",
       "      <td>True</td>\n",
       "      <td>2013</td>\n",
       "      <td>2</td>\n",
       "    </tr>\n",
       "    <tr>\n",
       "      <th>100226</th>\n",
       "      <td>Counter-Strike: Condition Zero</td>\n",
       "      <td>80</td>\n",
       "      <td>80</td>\n",
       "      <td>True</td>\n",
       "      <td>2011</td>\n",
       "      <td>2</td>\n",
       "    </tr>\n",
       "    <tr>\n",
       "      <th>100227</th>\n",
       "      <td>Counter-Strike: Condition Zero</td>\n",
       "      <td>80</td>\n",
       "      <td>80</td>\n",
       "      <td>True</td>\n",
       "      <td>2014</td>\n",
       "      <td>1</td>\n",
       "    </tr>\n",
       "    <tr>\n",
       "      <th>100228</th>\n",
       "      <td>Counter-Strike: Condition Zero</td>\n",
       "      <td>80</td>\n",
       "      <td>80</td>\n",
       "      <td>False</td>\n",
       "      <td>2014</td>\n",
       "      <td>2</td>\n",
       "    </tr>\n",
       "  </tbody>\n",
       "</table>\n",
       "<p>100229 rows × 6 columns</p>\n",
       "</div>"
      ],
      "text/plain": [
       "                                 title  id reviews_item_id  reviews_recommend  \\\n",
       "0                            Half-Life  70              70               True   \n",
       "1                            Half-Life  70              70               True   \n",
       "2                            Half-Life  70              70               True   \n",
       "3                            Half-Life  70              70               True   \n",
       "4                            Half-Life  70              70               True   \n",
       "...                                ...  ..             ...                ...   \n",
       "100224  Counter-Strike: Condition Zero  80              80              False   \n",
       "100225  Counter-Strike: Condition Zero  80              80               True   \n",
       "100226  Counter-Strike: Condition Zero  80              80               True   \n",
       "100227  Counter-Strike: Condition Zero  80              80               True   \n",
       "100228  Counter-Strike: Condition Zero  80              80              False   \n",
       "\n",
       "        year  sentiment_analysis  \n",
       "0       2015                   1  \n",
       "1       2014                   1  \n",
       "2       2015                   1  \n",
       "3       2014                   2  \n",
       "4       2011                   2  \n",
       "...      ...                 ...  \n",
       "100224  2014                   1  \n",
       "100225  2013                   2  \n",
       "100226  2011                   2  \n",
       "100227  2014                   1  \n",
       "100228  2014                   2  \n",
       "\n",
       "[100229 rows x 6 columns]"
      ]
     },
     "execution_count": 8,
     "metadata": {},
     "output_type": "execute_result"
    }
   ],
   "source": [
    "df_user_recomend"
   ]
  },
  {
   "cell_type": "code",
   "execution_count": 9,
   "metadata": {},
   "outputs": [],
   "source": [
    "df_user_recomend[\"year\"] = df_user_recomend[\"year\"].astype(int)"
   ]
  },
  {
   "cell_type": "code",
   "execution_count": 14,
   "metadata": {},
   "outputs": [
    {
     "name": "stdout",
     "output_type": "stream",
     "text": [
      "<class 'pandas.core.frame.DataFrame'>\n",
      "RangeIndex: 100229 entries, 0 to 100228\n",
      "Data columns (total 6 columns):\n",
      " #   Column              Non-Null Count   Dtype \n",
      "---  ------              --------------   ----- \n",
      " 0   title               100229 non-null  object\n",
      " 1   id                  100229 non-null  object\n",
      " 2   reviews_item_id     100229 non-null  object\n",
      " 3   reviews_recommend   100229 non-null  bool  \n",
      " 4   year                100229 non-null  int32 \n",
      " 5   sentiment_analysis  100229 non-null  int64 \n",
      "dtypes: bool(1), int32(1), int64(1), object(3)\n",
      "memory usage: 3.5+ MB\n"
     ]
    }
   ],
   "source": [
    "df_user_recomend.info()"
   ]
  },
  {
   "cell_type": "markdown",
   "metadata": {},
   "source": [
    "Creamos la funcion"
   ]
  },
  {
   "cell_type": "code",
   "execution_count": 10,
   "metadata": {},
   "outputs": [],
   "source": [
    "def userRecoomend(año: int):\n",
    "    games_year = df_user_recomend[df_user_recomend[\"year\"]== año]\n",
    "    recommends = games_year[(games_year[\"reviews_recommend\"]== True) & (games_year[\"sentiment_analysis\"]== 2)]\n",
    "    \n",
    "    # Agrupamos por juego recomendados\n",
    "    games = recommends[\"title\"].value_counts()\n",
    "    games.columns = [\"games\", \"recommend_count\"]\n",
    "    \n",
    "    # Ordenamos y obtenemos el top3\n",
    "    top_games = games.nlargest(3, \"recommend_count\")\n",
    "    \n",
    "    resultado = [{\"Puesto {}: {}\".format(i + 1, row['games']): row['recommend_count']} for i, row in top_games.iterrows()]\n",
    "    \n",
    "    return resultado"
   ]
  },
  {
   "cell_type": "code",
   "execution_count": 11,
   "metadata": {},
   "outputs": [
    {
     "data": {
      "text/plain": [
       "[{'Puesto 1: Counter-Strike: Global Offensive': 856},\n",
       " {'Puesto 2: Unturned': 780},\n",
       " {'Puesto 3: Team Fortress 2': 774}]"
      ]
     },
     "execution_count": 11,
     "metadata": {},
     "output_type": "execute_result"
    }
   ],
   "source": [
    "userRecoomend(2015)"
   ]
  },
  {
   "cell_type": "markdown",
   "metadata": {},
   "source": [
    "Comprobamos la funcon y decidimos cargar el datasat en la carpeta data, donde se encuentra la data que consumen las funciones"
   ]
  },
  {
   "cell_type": "code",
   "execution_count": 12,
   "metadata": {},
   "outputs": [],
   "source": [
    "df_user_recomend.to_parquet(\"../Funciones/data/userRecommend.parquet\")"
   ]
  }
 ],
 "metadata": {
  "kernelspec": {
   "display_name": "venv",
   "language": "python",
   "name": "python3"
  },
  "language_info": {
   "codemirror_mode": {
    "name": "ipython",
    "version": 3
   },
   "file_extension": ".py",
   "mimetype": "text/x-python",
   "name": "python",
   "nbconvert_exporter": "python",
   "pygments_lexer": "ipython3",
   "version": "3.11.6"
  }
 },
 "nbformat": 4,
 "nbformat_minor": 2
}
